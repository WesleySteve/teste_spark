{
 "cells": [
  {
   "cell_type": "markdown",
   "metadata": {},
   "source": [
    "importando libs"
   ]
  },
  {
   "cell_type": "code",
   "execution_count": null,
   "metadata": {},
   "outputs": [],
   "source": [
    "import os\n",
    "import findspark\n",
    "from pyspark.sql  import SparkSession"
   ]
  },
  {
   "cell_type": "code",
   "execution_count": 32,
   "metadata": {},
   "outputs": [],
   "source": [
    "# caminhos projeto\n",
    "BASE_DIR = os.path.dirname(os.path.abspath('.'))\n",
    "DATA_DIR = os.path.join(BASE_DIR, 'data')\n",
    "\n",
    "\n",
    "# encontrando os arquivos de dados\n",
    "arquivos = [i for i in os.listdir(DATA_DIR) if i.endswith(\".csv\")]\n"
   ]
  },
  {
   "cell_type": "code",
   "execution_count": null,
   "metadata": {},
   "outputs": [],
   "source": [
    "# iniciando findspark\n",
    "findspark.init()"
   ]
  },
  {
   "cell_type": "code",
   "execution_count": null,
   "metadata": {},
   "outputs": [],
   "source": [
    "# creando session spark\n",
    "spark = SparkSession.builder.getOrCreate()\n",
    "spark.conf.set('spark.sql.repl.eagerEval.enabled', True)"
   ]
  },
  {
   "cell_type": "markdown",
   "metadata": {},
   "source": [
    "Lendo arquivo"
   ]
  },
  {
   "cell_type": "code",
   "execution_count": null,
   "metadata": {},
   "outputs": [],
   "source": [
    "\n",
    "df_marcas = spark.read.format('csv')\\\n",
    "  .option('header', True)\\\n",
    "  .load(os.path.join(DATA_DIR, arquivos[0]), sep=',')\n",
    "  \n",
    "display(df_marcas)"
   ]
  }
 ],
 "metadata": {
  "kernelspec": {
   "display_name": "Python 3.9.12 ('teste_spark')",
   "language": "python",
   "name": "python3"
  },
  "language_info": {
   "codemirror_mode": {
    "name": "ipython",
    "version": 3
   },
   "file_extension": ".py",
   "mimetype": "text/x-python",
   "name": "python",
   "nbconvert_exporter": "python",
   "pygments_lexer": "ipython3",
   "version": "3.9.12"
  },
  "orig_nbformat": 4,
  "vscode": {
   "interpreter": {
    "hash": "4c495a7d5cac434b1d66e06b6c9f1b8f67e6cf717ed7f43ac74df1182c8c8d3a"
   }
  }
 },
 "nbformat": 4,
 "nbformat_minor": 2
}
