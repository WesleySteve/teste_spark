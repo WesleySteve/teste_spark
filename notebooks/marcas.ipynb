{
 "cells": [
  {
   "cell_type": "markdown",
   "metadata": {},
   "source": [
    "importando libs"
   ]
  },
  {
   "cell_type": "code",
   "execution_count": 1,
   "metadata": {},
   "outputs": [],
   "source": [
    "import os\n",
    "import findspark\n",
    "from pyspark.sql  import SparkSession"
   ]
  },
  {
   "cell_type": "code",
   "execution_count": 2,
   "metadata": {},
   "outputs": [],
   "source": [
    "# caminhos projeto\n",
    "BASE_DIR = os.path.dirname(os.path.abspath('.'))\n",
    "DATA_DIR = os.path.join(BASE_DIR, 'data')\n",
    "\n",
    "\n",
    "# encontrando os arquivos de dados\n",
    "arquivos = [i for i in os.listdir(DATA_DIR) if i.endswith(\".csv\")]\n"
   ]
  },
  {
   "cell_type": "code",
   "execution_count": 3,
   "metadata": {},
   "outputs": [],
   "source": [
    "# iniciando findspark\n",
    "findspark.init()"
   ]
  },
  {
   "cell_type": "code",
   "execution_count": 4,
   "metadata": {},
   "outputs": [
    {
     "name": "stdout",
     "output_type": "stream",
     "text": [
      "22/08/01 19:44:13 WARN Utils: Your hostname, note resolves to a loopback address: 127.0.1.1; using 192.168.2.108 instead (on interface wlp2s0)\n",
      "22/08/01 19:44:13 WARN Utils: Set SPARK_LOCAL_IP if you need to bind to another address\n"
     ]
    },
    {
     "name": "stderr",
     "output_type": "stream",
     "text": [
      "Setting default log level to \"WARN\".\n",
      "To adjust logging level use sc.setLogLevel(newLevel). For SparkR, use setLogLevel(newLevel).\n"
     ]
    },
    {
     "name": "stdout",
     "output_type": "stream",
     "text": [
      "22/08/01 19:44:14 WARN NativeCodeLoader: Unable to load native-hadoop library for your platform... using builtin-java classes where applicable\n"
     ]
    }
   ],
   "source": [
    "# creando session spark\n",
    "spark = SparkSession.builder.getOrCreate()\n",
    "spark.conf.set('spark.sql.repl.eagerEval.enabled', True)"
   ]
  },
  {
   "cell_type": "markdown",
   "metadata": {},
   "source": [
    "Lendo arquivo"
   ]
  },
  {
   "cell_type": "code",
   "execution_count": 5,
   "metadata": {},
   "outputs": [
    {
     "name": "stderr",
     "output_type": "stream",
     "text": [
      "                                                                                \r"
     ]
    },
    {
     "data": {
      "text/html": [
       "<table border='1'>\n",
       "<tr><th>marca_carro</th><th>cod_marca</th></tr>\n",
       "<tr><td>Acura</td><td>1</td></tr>\n",
       "<tr><td>Aston Martin</td><td>2</td></tr>\n",
       "<tr><td>Audi</td><td>3</td></tr>\n",
       "<tr><td>Austin</td><td>4</td></tr>\n",
       "<tr><td>BMW</td><td>5</td></tr>\n",
       "<tr><td>Bentley</td><td>6</td></tr>\n",
       "<tr><td>Bugatti</td><td>7</td></tr>\n",
       "<tr><td>Buick</td><td>8</td></tr>\n",
       "<tr><td>Cadillac</td><td>9</td></tr>\n",
       "<tr><td>Chevrolet</td><td>10</td></tr>\n",
       "<tr><td>Chrysler</td><td>11</td></tr>\n",
       "<tr><td>Citroën</td><td>12</td></tr>\n",
       "<tr><td>Daewoo</td><td>13</td></tr>\n",
       "<tr><td>Dodge</td><td>14</td></tr>\n",
       "<tr><td>Eagle</td><td>15</td></tr>\n",
       "<tr><td>Ferrari</td><td>16</td></tr>\n",
       "<tr><td>Ford</td><td>17</td></tr>\n",
       "<tr><td>GMC</td><td>18</td></tr>\n",
       "<tr><td>Geo</td><td>19</td></tr>\n",
       "<tr><td>Honda</td><td>20</td></tr>\n",
       "</table>\n",
       "only showing top 20 rows\n"
      ],
      "text/plain": [
       "+------------+---------+\n",
       "| marca_carro|cod_marca|\n",
       "+------------+---------+\n",
       "|       Acura|        1|\n",
       "|Aston Martin|        2|\n",
       "|        Audi|        3|\n",
       "|      Austin|        4|\n",
       "|         BMW|        5|\n",
       "|     Bentley|        6|\n",
       "|     Bugatti|        7|\n",
       "|       Buick|        8|\n",
       "|    Cadillac|        9|\n",
       "|   Chevrolet|       10|\n",
       "|    Chrysler|       11|\n",
       "|     Citroën|       12|\n",
       "|      Daewoo|       13|\n",
       "|       Dodge|       14|\n",
       "|       Eagle|       15|\n",
       "|     Ferrari|       16|\n",
       "|        Ford|       17|\n",
       "|         GMC|       18|\n",
       "|         Geo|       19|\n",
       "|       Honda|       20|\n",
       "+------------+---------+\n",
       "only showing top 20 rows"
      ]
     },
     "metadata": {},
     "output_type": "display_data"
    }
   ],
   "source": [
    "\n",
    "df_marcas = spark.read.format('csv')\\\n",
    "  .option('header', True)\\\n",
    "  .load(os.path.join(DATA_DIR, arquivos[0]), sep=',')\n",
    "  \n",
    "display(df_marcas)"
   ]
  }
 ],
 "metadata": {
  "kernelspec": {
   "display_name": "Python 3.9.12 ('teste_spark')",
   "language": "python",
   "name": "python3"
  },
  "language_info": {
   "codemirror_mode": {
    "name": "ipython",
    "version": 3
   },
   "file_extension": ".py",
   "mimetype": "text/x-python",
   "name": "python",
   "nbconvert_exporter": "python",
   "pygments_lexer": "ipython3",
   "version": "3.9.12"
  },
  "orig_nbformat": 4,
  "vscode": {
   "interpreter": {
    "hash": "4c495a7d5cac434b1d66e06b6c9f1b8f67e6cf717ed7f43ac74df1182c8c8d3a"
   }
  }
 },
 "nbformat": 4,
 "nbformat_minor": 2
}
