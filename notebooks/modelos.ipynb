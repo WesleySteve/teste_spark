{
 "cells": [
  {
   "cell_type": "code",
   "execution_count": 1,
   "metadata": {},
   "outputs": [],
   "source": [
    "import os\n",
    "import findspark\n",
    "from pyspark.sql  import SparkSession"
   ]
  },
  {
   "cell_type": "code",
   "execution_count": 2,
   "metadata": {},
   "outputs": [],
   "source": [
    "# caminhos projeto\n",
    "BASE_DIR = os.path.dirname(os.path.abspath('.'))\n",
    "DATA_DIR = os.path.join(BASE_DIR, 'data')\n",
    "\n",
    "\n",
    "# encontrando os arquivos de dados\n",
    "arquivos = [i for i in os.listdir(DATA_DIR) if i.endswith(\".csv\")]\n"
   ]
  },
  {
   "cell_type": "code",
   "execution_count": 3,
   "metadata": {},
   "outputs": [],
   "source": [
    "# iniciando findspark\n",
    "findspark.init()"
   ]
  },
  {
   "cell_type": "code",
   "execution_count": 4,
   "metadata": {},
   "outputs": [
    {
     "name": "stdout",
     "output_type": "stream",
     "text": [
      "22/08/01 19:44:51 WARN Utils: Your hostname, note resolves to a loopback address: 127.0.1.1; using 192.168.2.108 instead (on interface wlp2s0)\n",
      "22/08/01 19:44:51 WARN Utils: Set SPARK_LOCAL_IP if you need to bind to another address\n"
     ]
    },
    {
     "name": "stderr",
     "output_type": "stream",
     "text": [
      "Setting default log level to \"WARN\".\n",
      "To adjust logging level use sc.setLogLevel(newLevel). For SparkR, use setLogLevel(newLevel).\n"
     ]
    },
    {
     "name": "stdout",
     "output_type": "stream",
     "text": [
      "22/08/01 19:44:52 WARN NativeCodeLoader: Unable to load native-hadoop library for your platform... using builtin-java classes where applicable\n",
      "22/08/01 19:44:54 WARN Utils: Service 'SparkUI' could not bind on port 4040. Attempting port 4041.\n"
     ]
    }
   ],
   "source": [
    "# creando session spark\n",
    "spark = SparkSession.builder.getOrCreate()\n",
    "spark.conf.set('spark.sql.repl.eagerEval.enabled', True)"
   ]
  },
  {
   "cell_type": "markdown",
   "metadata": {},
   "source": [
    "Lendo arquivos"
   ]
  },
  {
   "cell_type": "code",
   "execution_count": 5,
   "metadata": {},
   "outputs": [
    {
     "name": "stderr",
     "output_type": "stream",
     "text": [
      "                                                                                \r"
     ]
    },
    {
     "data": {
      "text/html": [
       "<table border='1'>\n",
       "<tr><th>id_carro</th><th>modelo_carro</th><th>preco</th><th>cod_marca</th></tr>\n",
       "<tr><td>1</td><td>Avalon</td><td>$78401.95</td><td>54</td></tr>\n",
       "<tr><td>2</td><td>RDX</td><td>$95987.38</td><td>1</td></tr>\n",
       "<tr><td>3</td><td>Golf</td><td>$61274.55</td><td>55</td></tr>\n",
       "<tr><td>4</td><td>EX</td><td>$84981.12</td><td>23</td></tr>\n",
       "<tr><td>5</td><td>Escort</td><td>$77466.89</td><td>17</td></tr>\n",
       "<tr><td>6</td><td>Expedition</td><td>$84698.71</td><td>17</td></tr>\n",
       "<tr><td>7</td><td>Voyager</td><td>$95567.75</td><td>42</td></tr>\n",
       "<tr><td>8</td><td>Civic</td><td>$84749.22</td><td>20</td></tr>\n",
       "<tr><td>9</td><td>Defender</td><td>$98600.79</td><td>29</td></tr>\n",
       "<tr><td>10</td><td>V8 Vantage S</td><td>$94791.61</td><td>2</td></tr>\n",
       "<tr><td>11</td><td>C70</td><td>$97874.76</td><td>56</td></tr>\n",
       "<tr><td>12</td><td>G-Series 1500</td><td>$71638.24</td><td>10</td></tr>\n",
       "<tr><td>13</td><td>Legacy</td><td>$95850.12</td><td>52</td></tr>\n",
       "<tr><td>14</td><td>DB9</td><td>$86707.30</td><td>2</td></tr>\n",
       "<tr><td>15</td><td>Mulsanne</td><td>$70453.70</td><td>6</td></tr>\n",
       "<tr><td>16</td><td>RX</td><td>$46752.60</td><td>30</td></tr>\n",
       "<tr><td>17</td><td>Rabbit</td><td>$78048.08</td><td>55</td></tr>\n",
       "<tr><td>18</td><td>Q</td><td>$65193.95</td><td>23</td></tr>\n",
       "<tr><td>19</td><td>S60</td><td>$65396.98</td><td>56</td></tr>\n",
       "<tr><td>20</td><td>Envoy</td><td>$68994.97</td><td>18</td></tr>\n",
       "</table>\n",
       "only showing top 20 rows\n"
      ],
      "text/plain": [
       "+--------+-------------+---------+---------+\n",
       "|id_carro| modelo_carro|    preco|cod_marca|\n",
       "+--------+-------------+---------+---------+\n",
       "|       1|       Avalon|$78401.95|       54|\n",
       "|       2|          RDX|$95987.38|        1|\n",
       "|       3|         Golf|$61274.55|       55|\n",
       "|       4|           EX|$84981.12|       23|\n",
       "|       5|       Escort|$77466.89|       17|\n",
       "|       6|   Expedition|$84698.71|       17|\n",
       "|       7|      Voyager|$95567.75|       42|\n",
       "|       8|        Civic|$84749.22|       20|\n",
       "|       9|     Defender|$98600.79|       29|\n",
       "|      10| V8 Vantage S|$94791.61|        2|\n",
       "|      11|          C70|$97874.76|       56|\n",
       "|      12|G-Series 1500|$71638.24|       10|\n",
       "|      13|       Legacy|$95850.12|       52|\n",
       "|      14|          DB9|$86707.30|        2|\n",
       "|      15|     Mulsanne|$70453.70|        6|\n",
       "|      16|           RX|$46752.60|       30|\n",
       "|      17|       Rabbit|$78048.08|       55|\n",
       "|      18|            Q|$65193.95|       23|\n",
       "|      19|          S60|$65396.98|       56|\n",
       "|      20|        Envoy|$68994.97|       18|\n",
       "+--------+-------------+---------+---------+\n",
       "only showing top 20 rows"
      ]
     },
     "metadata": {},
     "output_type": "display_data"
    }
   ],
   "source": [
    "df_modelos = spark.read.format('csv')\\\n",
    "  .option('header', True)\\\n",
    "  .load(os.path.join(DATA_DIR, arquivos[1]), sep=',')\n",
    "  \n",
    "display(df_modelos)"
   ]
  }
 ],
 "metadata": {
  "kernelspec": {
   "display_name": "Python 3.9.12 ('teste_spark')",
   "language": "python",
   "name": "python3"
  },
  "language_info": {
   "codemirror_mode": {
    "name": "ipython",
    "version": 3
   },
   "file_extension": ".py",
   "mimetype": "text/x-python",
   "name": "python",
   "nbconvert_exporter": "python",
   "pygments_lexer": "ipython3",
   "version": "3.9.12"
  },
  "orig_nbformat": 4,
  "vscode": {
   "interpreter": {
    "hash": "4c495a7d5cac434b1d66e06b6c9f1b8f67e6cf717ed7f43ac74df1182c8c8d3a"
   }
  }
 },
 "nbformat": 4,
 "nbformat_minor": 2
}
